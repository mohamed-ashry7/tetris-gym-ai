{
 "cells": [
  {
   "cell_type": "code",
   "execution_count": 5,
   "metadata": {},
   "outputs": [],
   "source": [
    "from nes_py.wrappers import JoypadSpace\n",
    "import gym_tetris\n",
    "from gym_tetris.actions import MOVEMENT\n",
    "\n",
    "from collections import namedtuple\n",
    "import numpy as np\n",
    "from tensorboardX import SummaryWriter\n",
    "\n",
    "import torch\n",
    "import torch.nn as nn\n",
    "import torch.optim as optim"
   ]
  },
  {
   "cell_type": "code",
   "execution_count": 6,
   "metadata": {},
   "outputs": [],
   "source": [
    "# The nn\n",
    "\n",
    "class Net(nn.Module):\n",
    "    def __init__(self,obs_size,hidden_size,n_actions):\n",
    "        super(Net,self).__init__()\n",
    "        self.net = nn.Sequential(\n",
    "        nn.Linear(obs_size,hidden_size),\n",
    "        nn.ReLU(),\n",
    "        nn.Linear(hidden_size,n_actions)\n",
    "        )\n",
    "        \n",
    "        \n",
    "    def forward(self,x):\n",
    "        return self.net(x)"
   ]
  },
  {
   "cell_type": "code",
   "execution_count": 7,
   "metadata": {},
   "outputs": [],
   "source": [
    "HIDDEN_SIZE = 128\n",
    "BATCH_SIZE = 16\n",
    "PERCENTILE = 70\n",
    "Episode =namedtuple('Episode',field_names=['reward','steps'])# like a struct\n",
    "EpisodeStep=namedtuple('EpisodeStep',field_names=['observation','action'])\n"
   ]
  },
  {
   "cell_type": "code",
   "execution_count": 8,
   "metadata": {},
   "outputs": [],
   "source": [
    "def iterate_batches(env,net,batch_size):\n",
    "    episode_reward=0\n",
    "    batch=[]\n",
    "    episode_steps=[]\n",
    "    obs = env.reset()\n",
    "    sm=nn.Softmax(dim=1)\n",
    "    while True:\n",
    "        obs_v=torch.FloatTensor([obs])\n",
    "        actions_probs=sm(net(obs_v)).data.numpy()[0]\n",
    "        action_chosen=np.random.choice(len(actions_probs),p=actions_probs)\n",
    "        next_obs, reward, is_done, _ = env.step(action_chosen)\n",
    "        ep_step=EpisodeStep(observation=obs,action=action_chosen)\n",
    "        episode_reward+=reward\n",
    "        episode_steps.append(ep_step)\n",
    "        \n",
    "        if is_done:\n",
    "            batch.append(Episode(reward=episode_reward,steps=episode_steps))\n",
    "            next_obs=env.reset()\n",
    "            episode_steps=[]\n",
    "            episode_reward=0\n",
    "            \n",
    "        if len(batch)==batch_size:\n",
    "            yield batch\n",
    "            batch=[]\n",
    "        obs = next_obs"
   ]
  },
  {
   "cell_type": "code",
   "execution_count": 9,
   "metadata": {},
   "outputs": [],
   "source": [
    "def filter_batch(batch,percentile):\n",
    "    rewards = list(map(lambda s :s.reward,batch))\n",
    "    reward_boundary= np.percentile(rewards,percentile)\n",
    "    reward_mean= np.mean(rewards)\n",
    "    train_acts=[]\n",
    "    train_obs=[]\n",
    "    for episode in batch:\n",
    "        if episode.reward <reward_boundary:\n",
    "            continue\n",
    "        train_act.extend(map(lambda es:es.action,episode.steps))\n",
    "        train_obs.extend(map(lambda es:es.observation,episode.steps))\n",
    "    train_obs_v = torch.FloatTensor(train_obs)\n",
    "    train_act_v = torch.LongTensor(train_act)\n",
    "    return train_obs_v, train_act_v, reward_boundary, reward_mean"
   ]
  },
  {
   "cell_type": "code",
   "execution_count": null,
   "metadata": {},
   "outputs": [],
   "source": []
  },
  {
   "cell_type": "code",
   "execution_count": null,
   "metadata": {},
   "outputs": [],
   "source": [
    "env = gym_tetris.make('TetrisA-v0')\n",
    "env = JoypadSpace(env, MOVEMENT)\n",
    "\n",
    "done = True\n",
    "for step in range(5000):\n",
    "    if done:\n",
    "        state = env.reset()\n",
    "    state, reward, done, info = env.step(env.action_space.sample())\n",
    "    env.render()\n",
    "\n",
    "env.close()"
   ]
  }
 ],
 "metadata": {
  "kernelspec": {
   "display_name": "Python 3",
   "language": "python",
   "name": "python3"
  },
  "language_info": {
   "codemirror_mode": {
    "name": "ipython",
    "version": 3
   },
   "file_extension": ".py",
   "mimetype": "text/x-python",
   "name": "python",
   "nbconvert_exporter": "python",
   "pygments_lexer": "ipython3",
   "version": "3.6.9"
  }
 },
 "nbformat": 4,
 "nbformat_minor": 4
}
